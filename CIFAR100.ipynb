{
  "cells": [
    {
      "cell_type": "code",
      "execution_count": null,
      "metadata": {
        "id": "NaOsxVlU-7nb"
      },
      "outputs": [],
      "source": [
        "import numpy as np\n",
        "from tensorflow import keras\n",
        "from tensorflow.keras import layers"
      ]
    },
    {
      "cell_type": "code",
      "execution_count": null,
      "metadata": {
        "colab": {
          "base_uri": "https://localhost:8080/"
        },
        "id": "zsN1czDL_HGW",
        "outputId": "1df0c80c-eec5-4eb0-9747-99af0601fe71"
      },
      "outputs": [
        {
          "output_type": "stream",
          "name": "stdout",
          "text": [
            "x_train shape: (50000, 32, 32, 3)\n",
            "50000 train samples\n",
            "10000 test samples\n"
          ]
        }
      ],
      "source": [
        "# Model / data parameters\n",
        "num_classes = 100\n",
        "input_shape = (32, 32, 3)\n",
        "\n",
        "# Load the data and split it between train and test sets\n",
        "(x_train, y_train), (x_test, y_test) = keras.datasets.cifar100.load_data()\n",
        "\n",
        "print(\"x_train shape:\", x_train.shape)\n",
        "print(x_train.shape[0], \"train samples\")\n",
        "print(x_test.shape[0], \"test samples\")\n",
        "\n",
        "# convert class vectors to binary class matrices\n",
        "y_train = keras.utils.to_categorical(y_train, num_classes)\n",
        "y_test = keras.utils.to_categorical(y_test, num_classes)"
      ]
    },
    {
      "cell_type": "code",
      "execution_count": null,
      "metadata": {
        "colab": {
          "base_uri": "https://localhost:8080/"
        },
        "id": "2niVpasTAaVX",
        "outputId": "1c838765-93cb-4ac2-a92d-d6722128e0b2"
      },
      "outputs": [
        {
          "output_type": "stream",
          "name": "stdout",
          "text": [
            "Model: \"sequential_3\"\n",
            "_________________________________________________________________\n",
            " Layer (type)                Output Shape              Param #   \n",
            "=================================================================\n",
            " conv2d_7 (Conv2D)           (None, 29, 29, 32)        1568      \n",
            "                                                                 \n",
            " max_pooling2d_7 (MaxPooling  (None, 14, 14, 32)       0         \n",
            " 2D)                                                             \n",
            "                                                                 \n",
            " batch_normalization_3 (Batc  (None, 14, 14, 32)       128       \n",
            " hNormalization)                                                 \n",
            "                                                                 \n",
            " conv2d_8 (Conv2D)           (None, 12, 12, 64)        18496     \n",
            "                                                                 \n",
            " max_pooling2d_8 (MaxPooling  (None, 6, 6, 64)         0         \n",
            " 2D)                                                             \n",
            "                                                                 \n",
            " batch_normalization_4 (Batc  (None, 6, 6, 64)         256       \n",
            " hNormalization)                                                 \n",
            "                                                                 \n",
            " conv2d_9 (Conv2D)           (None, 4, 4, 128)         73856     \n",
            "                                                                 \n",
            " max_pooling2d_9 (MaxPooling  (None, 2, 2, 128)        0         \n",
            " 2D)                                                             \n",
            "                                                                 \n",
            " batch_normalization_5 (Batc  (None, 2, 2, 128)        512       \n",
            " hNormalization)                                                 \n",
            "                                                                 \n",
            " flatten_3 (Flatten)         (None, 512)               0         \n",
            "                                                                 \n",
            " dense_8 (Dense)             (None, 512)               262656    \n",
            "                                                                 \n",
            " dropout_1 (Dropout)         (None, 512)               0         \n",
            "                                                                 \n",
            " dense_9 (Dense)             (None, 100)               51300     \n",
            "                                                                 \n",
            "=================================================================\n",
            "Total params: 408,772\n",
            "Trainable params: 408,324\n",
            "Non-trainable params: 448\n",
            "_________________________________________________________________\n"
          ]
        }
      ],
      "source": [
        "model = keras.Sequential(\n",
        "    \n",
        "    \n",
        "    [   keras.Input(shape=input_shape),\n",
        "        layers.Conv2D(32, kernel_size=(4, 4), activation='relu'),\n",
        "        layers.MaxPooling2D(pool_size=(2, 2)),\n",
        "        layers.BatchNormalization(),\n",
        "        layers.Conv2D(64, kernel_size=(3, 3), activation='relu'),\n",
        "        layers.MaxPooling2D(pool_size=(2, 2)),\n",
        "        layers.BatchNormalization(),\n",
        "        layers.Conv2D(128, kernel_size=(3, 3), activation='relu'),\n",
        "        layers.MaxPooling2D(pool_size=(2, 2)),\n",
        "        layers.BatchNormalization(),\n",
        "        layers.Flatten(),\n",
        "        layers.Dense(512, activation=\"relu\"),\n",
        "        layers.Dropout(0.5),\n",
        "        layers.Dense(num_classes, activation=\"softmax\"),\n",
        "    ]\n",
        ")\n",
        "\n",
        "model.summary()"
      ]
    },
    {
      "cell_type": "code",
      "execution_count": null,
      "metadata": {
        "colab": {
          "base_uri": "https://localhost:8080/"
        },
        "id": "1FLZ5yevA9B8",
        "outputId": "e7039c39-776a-46b3-cf93-a7252d7d6718"
      },
      "outputs": [
        {
          "output_type": "stream",
          "name": "stdout",
          "text": [
            "Epoch 1/10\n",
            "352/352 [==============================] - 69s 195ms/step - loss: 3.8801 - accuracy: 0.1275 - val_loss: 3.5052 - val_accuracy: 0.1816\n",
            "Epoch 2/10\n",
            "352/352 [==============================] - 68s 195ms/step - loss: 3.0774 - accuracy: 0.2479 - val_loss: 3.0282 - val_accuracy: 0.2594\n",
            "Epoch 3/10\n",
            "352/352 [==============================] - 71s 203ms/step - loss: 2.7186 - accuracy: 0.3157 - val_loss: 2.6391 - val_accuracy: 0.3298\n",
            "Epoch 4/10\n",
            "352/352 [==============================] - 69s 197ms/step - loss: 2.4807 - accuracy: 0.3656 - val_loss: 2.4979 - val_accuracy: 0.3608\n",
            "Epoch 5/10\n",
            "352/352 [==============================] - 69s 195ms/step - loss: 2.3077 - accuracy: 0.3992 - val_loss: 2.7399 - val_accuracy: 0.3328\n",
            "Epoch 6/10\n",
            "352/352 [==============================] - 70s 200ms/step - loss: 2.1576 - accuracy: 0.4317 - val_loss: 2.3276 - val_accuracy: 0.4068\n",
            "Epoch 7/10\n",
            "352/352 [==============================] - 70s 199ms/step - loss: 2.0373 - accuracy: 0.4539 - val_loss: 2.4133 - val_accuracy: 0.3846\n",
            "Epoch 8/10\n",
            "352/352 [==============================] - 69s 195ms/step - loss: 1.9302 - accuracy: 0.4786 - val_loss: 2.3200 - val_accuracy: 0.4016\n",
            "Epoch 9/10\n",
            "352/352 [==============================] - 70s 199ms/step - loss: 1.8202 - accuracy: 0.5004 - val_loss: 2.2355 - val_accuracy: 0.4288\n",
            "Epoch 10/10\n",
            "352/352 [==============================] - 69s 195ms/step - loss: 1.7286 - accuracy: 0.5231 - val_loss: 2.2914 - val_accuracy: 0.4112\n"
          ]
        },
        {
          "output_type": "execute_result",
          "data": {
            "text/plain": [
              "<keras.callbacks.History at 0x7ff274ab9f10>"
            ]
          },
          "metadata": {},
          "execution_count": 21
        }
      ],
      "source": [
        "batch_size = 128\n",
        "epochs = 10\n",
        "\n",
        "model.compile(loss=\"categorical_crossentropy\", optimizer=\"adam\", metrics=[\"accuracy\"])\n",
        "\n",
        "model.fit(x_train, y_train, batch_size=batch_size, epochs=epochs, validation_split=0.1)"
      ]
    },
    {
      "cell_type": "code",
      "execution_count": null,
      "metadata": {
        "id": "kletPp17CmH9",
        "colab": {
          "base_uri": "https://localhost:8080/"
        },
        "outputId": "4761afbb-c925-4b77-efca-7f5d200811e7"
      },
      "outputs": [
        {
          "output_type": "stream",
          "name": "stdout",
          "text": [
            "Test loss: 2.24462890625\n",
            "Test accuracy: 0.42660000920295715\n"
          ]
        }
      ],
      "source": [
        "score = model.evaluate(x_test, y_test, verbose=0)\n",
        "print(\"Test loss:\", score[0])\n",
        "print(\"Test accuracy:\", score[1])"
      ]
    }
  ],
  "metadata": {
    "colab": {
      "collapsed_sections": [],
      "provenance": []
    },
    "kernelspec": {
      "display_name": "Python 3",
      "name": "python3"
    },
    "language_info": {
      "name": "python"
    }
  },
  "nbformat": 4,
  "nbformat_minor": 0
}